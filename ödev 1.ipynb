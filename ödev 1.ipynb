{
 "cells": [
  {
   "cell_type": "code",
   "execution_count": 24,
   "id": "08b3b0fe",
   "metadata": {},
   "outputs": [
    {
     "name": "stdout",
     "output_type": "stream",
     "text": [
      "bir sayı girinzi : 3\n",
      "bir sayı girinzi : 4\n"
     ]
    }
   ],
   "source": [
    "sayı1 = int(input(\"bir sayı girinzi : \"))\n",
    "sayı2 = int(input(\"bir sayı girinzi : \"))"
   ]
  },
  {
   "cell_type": "code",
   "execution_count": 32,
   "id": "f5fcb5f9",
   "metadata": {},
   "outputs": [
    {
     "name": "stdout",
     "output_type": "stream",
     "text": [
      "girilen iki sayının toplamı 7 \n"
     ]
    }
   ],
   "source": [
    "sayı3 = sayı1 + sayı2\n",
    "print(f\"girilen iki sayının toplamı {sayı3} \")"
   ]
  },
  {
   "cell_type": "code",
   "execution_count": 38,
   "id": "290e1f0f",
   "metadata": {},
   "outputs": [
    {
     "name": "stdout",
     "output_type": "stream",
     "text": [
      "5050\n"
     ]
    }
   ],
   "source": [
    "# 3 soru\n",
    "total_sum = 0\n",
    "for i in range(1, 101):\n",
    "    total_sum += i\n",
    "\n",
    "print(total_sum)"
   ]
  },
  {
   "cell_type": "code",
   "execution_count": 39,
   "id": "b6a70df7",
   "metadata": {},
   "outputs": [
    {
     "name": "stdout",
     "output_type": "stream",
     "text": [
      "29 bir asal sayıdır.\n"
     ]
    }
   ],
   "source": [
    "# 4. soru\n",
    "def is_prime(num):\n",
    "    if num < 2:\n",
    "        return False\n",
    "    for i in range(2, int(num ** 0.5) + 1):\n",
    "        if num % i == 0:\n",
    "            return False\n",
    "    return True\n",
    "\n",
    "# Örnek kullanım\n",
    "number = 29\n",
    "if is_prime(number):\n",
    "    print(f\"{number} bir asal sayıdır.\")\n",
    "else:\n",
    "    print(f\"{number} bir asal sayı değildir.\")"
   ]
  }
 ],
 "metadata": {
  "kernelspec": {
   "display_name": "Python 3 (ipykernel)",
   "language": "python",
   "name": "python3"
  },
  "language_info": {
   "codemirror_mode": {
    "name": "ipython",
    "version": 3
   },
   "file_extension": ".py",
   "mimetype": "text/x-python",
   "name": "python",
   "nbconvert_exporter": "python",
   "pygments_lexer": "ipython3",
   "version": "3.11.3"
  }
 },
 "nbformat": 4,
 "nbformat_minor": 5
}
